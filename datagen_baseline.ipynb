{
 "cells": [
  {
   "cell_type": "markdown",
   "id": "47780423",
   "metadata": {},
   "source": [
    "# Oregon Wildlife - Image Classification Capstone - Baseline Modeling\n",
    "## David Lappin\n",
    "### BrainStation\n",
    "#### 3/1/2023 -"
   ]
  },
  {
   "cell_type": "code",
   "execution_count": 1,
   "id": "a180de2e",
   "metadata": {},
   "outputs": [],
   "source": [
    "import matplotlib.pyplot as plt\n",
    "import numpy as np\n",
    "import pandas as pd\n",
    "import os\n",
    "import PIL \n",
    "from glob import glob\n",
    "import seaborn as sns\n",
    "\n",
    "import tensorflow as tf\n",
    "from tensorflow import keras\n",
    "from tensorflow.keras import layers\n",
    "from tensorflow.keras.models import Sequential\n",
    "from tensorflow.keras.preprocessing.image import ImageDataGenerator\n",
    "from keras.layers import Dropout, Flatten, Dense, Conv2D, MaxPooling2D, BatchNormalization"
   ]
  },
  {
   "cell_type": "code",
   "execution_count": 2,
   "id": "39d8d0fa",
   "metadata": {},
   "outputs": [],
   "source": [
    "#set local path to files for basic exploration\n",
    "\n",
    "datapath = 'data/oregon_wildlife/' # This is the relative path to the data\n",
    "image_files = os.listdir(datapath) #these are the individual folder names (the class names)"
   ]
  },
  {
   "cell_type": "markdown",
   "id": "5d7f3e3c",
   "metadata": {},
   "source": [
    "# Split data:"
   ]
  },
  {
   "cell_type": "code",
   "execution_count": 3,
   "id": "405d62c5",
   "metadata": {},
   "outputs": [
    {
     "name": "stdout",
     "output_type": "stream",
     "text": [
      "Found 10845 images belonging to 20 classes.\n",
      "Found 2705 images belonging to 20 classes.\n"
     ]
    }
   ],
   "source": [
    "import numpy as np\n",
    "from keras import backend as K\n",
    "from keras.models import Sequential\n",
    "from keras.layers.core import Dense, Dropout, Activation, Flatten\n",
    "from keras.layers.convolutional import Convolution2D, MaxPooling2D\n",
    "from keras.preprocessing.image import ImageDataGenerator\n",
    "from sklearn.metrics import classification_report, confusion_matrix\n",
    "\n",
    "#Start\n",
    "#train_data_path = 'F://data//Train'\n",
    "#test_data_path = 'F://data//Validation'\n",
    "img_height = 180\n",
    "img_width = 180\n",
    "epochs = 2\n",
    "batch_size = 32\n",
    "#num_of_train_samples = 3000\n",
    "#num_of_test_samples = 600\n",
    "\n",
    "#Image Generator\n",
    "train_datagen = ImageDataGenerator(rescale=1./255,\n",
    "    shear_range=0.2,\n",
    "    zoom_range=0.2,\n",
    "    horizontal_flip=True,\n",
    "    validation_split=0.2) # set validation split\n",
    "\n",
    "train_generator = train_datagen.flow_from_directory(\n",
    "    datapath,\n",
    "    target_size=(img_height, img_width),\n",
    "    batch_size=batch_size,\n",
    "    class_mode='categorical',\n",
    "    subset='training') # set as training data\n",
    "\n",
    "validation_generator = train_datagen.flow_from_directory(\n",
    "    datapath, # same directory as training data\n",
    "    target_size=(img_height, img_width),\n",
    "    batch_size=batch_size,\n",
    "    class_mode='categorical',\n",
    "    subset='validation') # set as validation data\n",
    "\n",
    "\n"
   ]
  },
  {
   "cell_type": "code",
   "execution_count": 5,
   "id": "3c2caffa",
   "metadata": {},
   "outputs": [
    {
     "name": "stdout",
     "output_type": "stream",
     "text": [
      "Epoch 1/2\n",
      " 22/338 [>.............................] - ETA: 3:21 - loss: 2.9975 - accuracy: 0.0440"
     ]
    },
    {
     "name": "stderr",
     "output_type": "stream",
     "text": [
      "C:\\Users\\dlapp\\anaconda3\\envs\\baseclone\\lib\\site-packages\\PIL\\TiffImagePlugin.py:845: UserWarning: Corrupt EXIF data.  Expecting to read 2 bytes but only got 0. \n",
      "  warnings.warn(str(msg))\n"
     ]
    },
    {
     "name": "stdout",
     "output_type": "stream",
     "text": [
      "338/338 [==============================] - 266s 784ms/step - loss: 2.9952 - accuracy: 0.0509 - val_loss: 2.9939 - val_accuracy: 0.0547\n",
      "Epoch 2/2\n",
      "338/338 [==============================] - 267s 790ms/step - loss: 2.9938 - accuracy: 0.0550 - val_loss: 2.9933 - val_accuracy: 0.0551\n"
     ]
    }
   ],
   "source": [
    "\n",
    "num_classes = 20\n",
    "img_height = 180\n",
    "img_width = 180\n",
    "\n",
    "model = Sequential([\n",
    "  layers.Rescaling(1./255, input_shape=(img_height, img_width, 3)),\n",
    "  layers.Conv2D(16, 3, padding='same', activation='relu'),\n",
    "  layers.MaxPooling2D(),\n",
    "  layers.Conv2D(32, 3, padding='same', activation='relu'),\n",
    "  layers.MaxPooling2D(),\n",
    "  layers.Conv2D(64, 3, padding='same', activation='relu'),\n",
    "  layers.MaxPooling2D(),\n",
    "  layers.Flatten(),\n",
    "  layers.Dense(128, activation='relu'),\n",
    "  layers.Dense(20, activation = 'softmax')\n",
    "])\n",
    "\n",
    "model.compile(loss='categorical_crossentropy',\n",
    "              optimizer='adam',\n",
    "              metrics=['accuracy'])\n",
    "\n",
    "history = model.fit(\n",
    "    train_generator,\n",
    "    steps_per_epoch = train_generator.samples // batch_size,\n",
    "    epochs = epochs,\n",
    "    validation_data = validation_generator, \n",
    "    validation_steps = validation_generator.samples // batch_size)"
   ]
  },
  {
   "cell_type": "code",
   "execution_count": 6,
   "id": "b0ad5e97",
   "metadata": {},
   "outputs": [
    {
     "name": "stdout",
     "output_type": "stream",
     "text": [
      "Found 400 images belonging to 20 classes.\n"
     ]
    }
   ],
   "source": [
    "test_datagen = ImageDataGenerator(rescale=1./255)\n",
    "test_generator = test_datagen.flow_from_directory('data\\\\oregon_wildlife_test\\\\',\n",
    "                                                  target_size=(img_height,img_width),\n",
    "                                                  color_mode='rgb',\n",
    "                                                  batch_size=400,\n",
    "                                                  class_mode='categorical')"
   ]
  },
  {
   "cell_type": "code",
   "execution_count": 7,
   "id": "1dea9e77",
   "metadata": {},
   "outputs": [
    {
     "data": {
      "text/plain": [
       "['bald_eagle',\n",
       " 'black_bear',\n",
       " 'bobcat',\n",
       " 'canada_lynx',\n",
       " 'columbian_black-tailed_deer',\n",
       " 'cougar',\n",
       " 'coyote',\n",
       " 'deer',\n",
       " 'elk',\n",
       " 'gray_fox',\n",
       " 'gray_wolf',\n",
       " 'mountain_beaver',\n",
       " 'nutria',\n",
       " 'raccoon',\n",
       " 'raven',\n",
       " 'red_fox',\n",
       " 'ringtail',\n",
       " 'sea_lions',\n",
       " 'seals',\n",
       " 'virginia_opossum']"
      ]
     },
     "execution_count": 7,
     "metadata": {},
     "output_type": "execute_result"
    }
   ],
   "source": [
    "list(train_generator.class_indices.keys())"
   ]
  },
  {
   "cell_type": "markdown",
   "id": "95c3307d",
   "metadata": {},
   "source": [
    "confusion matrix and classification report from:\n",
    "\n",
    "https://gist.github.com/RyanAkilos/3808c17f79e77c4117de35aa68447045"
   ]
  },
  {
   "cell_type": "code",
   "execution_count": 8,
   "id": "3bff6b56",
   "metadata": {
    "scrolled": true
   },
   "outputs": [
    {
     "name": "stderr",
     "output_type": "stream",
     "text": [
      "C:\\Users\\dlapp\\AppData\\Local\\Temp\\ipykernel_26520\\4095981115.py:2: UserWarning: `Model.predict_generator` is deprecated and will be removed in a future version. Please use `Model.predict`, which supports generators.\n",
      "  Y_pred = model.predict_generator(test_generator, test_generator.samples // batch_size+1)\n"
     ]
    },
    {
     "name": "stdout",
     "output_type": "stream",
     "text": [
      "WARNING:tensorflow:Your input ran out of data; interrupting training. Make sure that your dataset or generator can generate at least `steps_per_epoch * epochs` batches (in this case, 13 batches). You may need to use the repeat() function when building your dataset.\n",
      "Confusion Matrix\n",
      "[[ 0  0  0  0  0  0  0 20  0  0  0  0  0  0  0  0  0  0  0  0]\n",
      " [ 0  0  0  0  0  0  0 20  0  0  0  0  0  0  0  0  0  0  0  0]\n",
      " [ 0  0  0  0  0  0  0 20  0  0  0  0  0  0  0  0  0  0  0  0]\n",
      " [ 0  0  0  0  0  0  0 20  0  0  0  0  0  0  0  0  0  0  0  0]\n",
      " [ 0  0  0  0  0  0  0 20  0  0  0  0  0  0  0  0  0  0  0  0]\n",
      " [ 0  0  0  0  0  0  0 20  0  0  0  0  0  0  0  0  0  0  0  0]\n",
      " [ 0  0  0  0  0  0  0 20  0  0  0  0  0  0  0  0  0  0  0  0]\n",
      " [ 0  0  0  0  0  0  0 20  0  0  0  0  0  0  0  0  0  0  0  0]\n",
      " [ 0  0  0  0  0  0  0 20  0  0  0  0  0  0  0  0  0  0  0  0]\n",
      " [ 0  0  0  0  0  0  0 20  0  0  0  0  0  0  0  0  0  0  0  0]\n",
      " [ 0  0  0  0  0  0  0 20  0  0  0  0  0  0  0  0  0  0  0  0]\n",
      " [ 0  0  0  0  0  0  0 20  0  0  0  0  0  0  0  0  0  0  0  0]\n",
      " [ 0  0  0  0  0  0  0 20  0  0  0  0  0  0  0  0  0  0  0  0]\n",
      " [ 0  0  0  0  0  0  0 20  0  0  0  0  0  0  0  0  0  0  0  0]\n",
      " [ 0  0  0  0  0  0  0 20  0  0  0  0  0  0  0  0  0  0  0  0]\n",
      " [ 0  0  0  0  0  0  0 20  0  0  0  0  0  0  0  0  0  0  0  0]\n",
      " [ 0  0  0  0  0  0  0 20  0  0  0  0  0  0  0  0  0  0  0  0]\n",
      " [ 0  0  0  0  0  0  0 20  0  0  0  0  0  0  0  0  0  0  0  0]\n",
      " [ 0  0  0  0  0  0  0 20  0  0  0  0  0  0  0  0  0  0  0  0]\n",
      " [ 0  0  0  0  0  0  0 20  0  0  0  0  0  0  0  0  0  0  0  0]]\n",
      "Classification Report\n",
      "                             precision    recall  f1-score   support\n",
      "\n",
      "                 bald_eagle       0.00      0.00      0.00        20\n",
      "                 black_bear       0.00      0.00      0.00        20\n",
      "                     bobcat       0.00      0.00      0.00        20\n",
      "                canada_lynx       0.00      0.00      0.00        20\n",
      "columbian_black-tailed_deer       0.00      0.00      0.00        20\n",
      "                     cougar       0.00      0.00      0.00        20\n",
      "                     coyote       0.00      0.00      0.00        20\n",
      "                       deer       0.05      1.00      0.10        20\n",
      "                        elk       0.00      0.00      0.00        20\n",
      "                   gray_fox       0.00      0.00      0.00        20\n",
      "                  gray_wolf       0.00      0.00      0.00        20\n",
      "            mountain_beaver       0.00      0.00      0.00        20\n",
      "                     nutria       0.00      0.00      0.00        20\n",
      "                    raccoon       0.00      0.00      0.00        20\n",
      "                      raven       0.00      0.00      0.00        20\n",
      "                    red_fox       0.00      0.00      0.00        20\n",
      "                   ringtail       0.00      0.00      0.00        20\n",
      "                  sea_lions       0.00      0.00      0.00        20\n",
      "                      seals       0.00      0.00      0.00        20\n",
      "           virginia_opossum       0.00      0.00      0.00        20\n",
      "\n",
      "                   accuracy                           0.05       400\n",
      "                  macro avg       0.00      0.05      0.00       400\n",
      "               weighted avg       0.00      0.05      0.00       400\n",
      "\n"
     ]
    },
    {
     "name": "stderr",
     "output_type": "stream",
     "text": [
      "C:\\Users\\dlapp\\anaconda3\\envs\\baseclone\\lib\\site-packages\\sklearn\\metrics\\_classification.py:1318: UndefinedMetricWarning: Precision and F-score are ill-defined and being set to 0.0 in labels with no predicted samples. Use `zero_division` parameter to control this behavior.\n",
      "  _warn_prf(average, modifier, msg_start, len(result))\n",
      "C:\\Users\\dlapp\\anaconda3\\envs\\baseclone\\lib\\site-packages\\sklearn\\metrics\\_classification.py:1318: UndefinedMetricWarning: Precision and F-score are ill-defined and being set to 0.0 in labels with no predicted samples. Use `zero_division` parameter to control this behavior.\n",
      "  _warn_prf(average, modifier, msg_start, len(result))\n",
      "C:\\Users\\dlapp\\anaconda3\\envs\\baseclone\\lib\\site-packages\\sklearn\\metrics\\_classification.py:1318: UndefinedMetricWarning: Precision and F-score are ill-defined and being set to 0.0 in labels with no predicted samples. Use `zero_division` parameter to control this behavior.\n",
      "  _warn_prf(average, modifier, msg_start, len(result))\n"
     ]
    }
   ],
   "source": [
    "#Confution Matrix and Classification Report\n",
    "Y_pred = model.predict_generator(test_generator, test_generator.samples // batch_size+1)\n",
    "y_pred = np.argmax(Y_pred, axis=1)\n",
    "print('Confusion Matrix')\n",
    "con_mat = confusion_matrix(test_generator.classes, y_pred)\n",
    "print(confusion_matrix(test_generator.classes, y_pred))\n",
    "print('Classification Report')\n",
    "target_names = list(train_generator.class_indices.keys())\n",
    "print(classification_report(test_generator.classes, y_pred, target_names=target_names))\n",
    "                \n",
    "                \n",
    "#Confution Matrix and Classification Report\n",
    "#Y_pred = model.predict_generator(validation_generator, num_of_test_samples // batch_size+1)\n",
    "#y_pred = np.argmax(Y_pred, axis=1)\n",
    "#print('Confusion Matrix')\n",
    "#print(confusion_matrix(validation_generator.classes, y_pred))\n",
    "#print('Classification Report')\n",
    "#target_names = ['Cats', 'Dogs', 'Horse']\n",
    "#print(classification_report(validation_generator.classes, y_pred, target_names=target_names))"
   ]
  },
  {
   "cell_type": "code",
   "execution_count": 9,
   "id": "fbc23558",
   "metadata": {},
   "outputs": [],
   "source": [
    "normalized_conf_mat = con_mat / con_mat.sum(axis=1)"
   ]
  },
  {
   "cell_type": "code",
   "execution_count": 10,
   "id": "c56af6e5",
   "metadata": {},
   "outputs": [
    {
     "data": {
      "image/png": "[encoded data removed]",
      "text/plain": [
       "<Figure size 900x700 with 1 Axes>"
      ]
     },
     "metadata": {},
     "output_type": "display_data"
    }
   ],
   "source": [
    "plt.figure(figsize = (9,7))\n",
    "sns.heatmap(normalized_conf_mat,\n",
    "            annot=True,\n",
    "            cbar=False,\n",
    "            cmap=\"rocket_r\",\n",
    "            linewidths=1\n",
    "           )\n",
    "plt.title('Confusion Matrix',size = 25,y=1.01)\n",
    "plt.xlabel(\"Predicted Label\", size = 20)\n",
    "plt.ylabel(\"True Label\", size = 20)\n",
    "plt.show()"
   ]
  },
  {
   "cell_type": "code",
   "execution_count": null,
   "id": "f632ec3f",
   "metadata": {},
   "outputs": [],
   "source": []
  }
 ],
 "metadata": {
  "kernelspec": {
   "display_name": "baseclone",
   "language": "python",
   "name": "baseclone"
  },
  "language_info": {
   "codemirror_mode": {
    "name": "ipython",
    "version": 3
   },
   "file_extension": ".py",
   "mimetype": "text/x-python",
   "name": "python",
   "nbconvert_exporter": "python",
   "pygments_lexer": "ipython3",
   "version": "3.9.13"
  }
 },
 "nbformat": 4,
 "nbformat_minor": 5
}
